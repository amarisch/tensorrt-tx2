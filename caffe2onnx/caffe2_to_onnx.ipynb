{
 "cells": [
  {
   "cell_type": "code",
   "execution_count": null,
   "metadata": {},
   "outputs": [],
   "source": [
    "import os\n",
    "import onnx\n",
    "# import caffe2.python.onnx.frontend - this line gives seg fault for some reason\n",
    "from caffe2.proto import caffe2_pb2\n",
    "from onnx import frontend\n",
    "from caffe2.python import core\n",
    "# import onnx"
   ]
  },
  {
   "cell_type": "code",
   "execution_count": 4,
   "metadata": {},
   "outputs": [],
   "source": [
    "MODEL_DIR = \"/home/chen2/amaris/model/cat_dog_epo39\"\n",
    "\n",
    "# We need to provide type and shape of the model inputs, \n",
    "# see above Note section for explanation\n",
    "data_type = onnx.TensorProto.FLOAT\n",
    "data_shape = (1, 3, 224, 224)\n",
    "value_info = {\n",
    "    'data': (data_type, data_shape)\n",
    "}\n",
    "\n",
    "predict_net = caffe2_pb2.NetDef()\n",
    "with open(os.path.join(MODEL_DIR, 'predict_net.pb'), 'rb') as f:\n",
    "    predict_net.ParseFromString(f.read())\n",
    "\n",
    "init_net = caffe2_pb2.NetDef()\n",
    "with open(os.path.join(MODEL_DIR, 'init_net.pb'), 'rb') as f:\n",
    "    init_net.ParseFromString(f.read())"
   ]
  },
  {
   "cell_type": "code",
   "execution_count": 6,
   "metadata": {},
   "outputs": [
    {
     "ename": "AttributeError",
     "evalue": "'module' object has no attribute 'Caffe2Frontend'",
     "output_type": "error",
     "traceback": [
      "\u001b[0;31m---------------------------------------------------------------------------\u001b[0m",
      "\u001b[0;31mAttributeError\u001b[0m                            Traceback (most recent call last)",
      "\u001b[0;32m<ipython-input-6-82ab331aae60>\u001b[0m in \u001b[0;36m<module>\u001b[0;34m()\u001b[0m\n\u001b[1;32m      1\u001b[0m \u001b[0;32mimport\u001b[0m \u001b[0mcaffe2\u001b[0m\u001b[0;34m\u001b[0m\u001b[0m\n\u001b[0;32m----> 2\u001b[0;31m \u001b[0monnx_frontend\u001b[0m \u001b[0;34m=\u001b[0m \u001b[0mfrontend\u001b[0m\u001b[0;34m.\u001b[0m\u001b[0mCaffe2Frontend\u001b[0m\u001b[0;34m(\u001b[0m\u001b[0;34m)\u001b[0m\u001b[0;34m\u001b[0m\u001b[0m\n\u001b[0m\u001b[1;32m      3\u001b[0m \u001b[0;31m# onnx_model = frontend.caffe2_net_to_onnx_model(\u001b[0m\u001b[0;34m\u001b[0m\u001b[0;34m\u001b[0m\u001b[0m\n\u001b[1;32m      4\u001b[0m \u001b[0;31m#     predict_net,\u001b[0m\u001b[0;34m\u001b[0m\u001b[0;34m\u001b[0m\u001b[0m\n\u001b[1;32m      5\u001b[0m \u001b[0;31m#     init_net,\u001b[0m\u001b[0;34m\u001b[0m\u001b[0;34m\u001b[0m\u001b[0m\n",
      "\u001b[0;31mAttributeError\u001b[0m: 'module' object has no attribute 'Caffe2Frontend'"
     ]
    }
   ],
   "source": [
    "import caffe2\n",
    "onnx_frontend = frontend.Caffe2Frontend()\n",
    "# onnx_model = frontend.caffe2_net_to_onnx_model(\n",
    "#     predict_net,\n",
    "#     init_net,\n",
    "#     value_info,\n",
    "# )\n",
    "onnx_model = caffe2.python.onnx.frontend.caffe2_net_to_onnx_model(\n",
    "    predict_net,\n",
    "    init_net,\n",
    "    value_info,\n",
    ")\n",
    "\n",
    "# onnx.checker.check_model(onnx_model)\n",
    "\n",
    "# filepath = os.path.join(MODEL_DIR, 'model.onnx')\n",
    "# onnx.save(onnx_model, filepath)\n",
    "# print(\"Successfully saved model as model.onnx in \", MODEL_DIR)"
   ]
  }
 ],
 "metadata": {
  "kernelspec": {
   "display_name": "Python 2",
   "language": "python",
   "name": "python2"
  },
  "language_info": {
   "codemirror_mode": {
    "name": "ipython",
    "version": 2
   },
   "file_extension": ".py",
   "mimetype": "text/x-python",
   "name": "python",
   "nbconvert_exporter": "python",
   "pygments_lexer": "ipython2",
   "version": "2.7.12"
  }
 },
 "nbformat": 4,
 "nbformat_minor": 2
}
