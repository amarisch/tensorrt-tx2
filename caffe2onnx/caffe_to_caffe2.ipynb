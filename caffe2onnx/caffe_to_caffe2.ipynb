{
 "cells": [
  {
   "cell_type": "code",
   "execution_count": 4,
   "metadata": {},
   "outputs": [
    {
     "name": "stdout",
     "output_type": "stream",
     "text": [
      "Required modules imported.\n"
     ]
    }
   ],
   "source": [
    "from __future__ import absolute_import\n",
    "from __future__ import division\n",
    "from __future__ import print_function\n",
    "from __future__ import unicode_literals\n",
    "\n",
    "import os\n",
    "print(\"Required modules imported.\")"
   ]
  },
  {
   "cell_type": "code",
   "execution_count": 5,
   "metadata": {},
   "outputs": [],
   "source": [
    "# You should have checked out original Caffe\n",
    "# git clone https://github.com/BVLC/caffe.git\n",
    "# change the CAFFE_ROOT directory below accordingly\n",
    "CAFFE_ROOT = os.path.expanduser('/home/chen2/amaris/model/cat_dog_epo39')\n",
    "\n",
    "# Make sure Caffe exists where you specified\n",
    "if not os.path.exists(CAFFE_ROOT):\n",
    "    print(\"Houston, you may have a problem.\") \n",
    "    print(\"Did you change CAFFE_ROOT to point to your local Caffe repo?\")\n",
    "    print(\"Try running: git clone https://github.com/BVLC/caffe.git\")"
   ]
  },
  {
   "cell_type": "code",
   "execution_count": 6,
   "metadata": {},
   "outputs": [],
   "source": [
    "# Change file names accordingly\n",
    "MODEL_FILE = 'deploy.prototxt'\n",
    "MODEL_PRETRAINED = 'snapshot_iter_22854.caffemodel'"
   ]
  },
  {
   "cell_type": "code",
   "execution_count": 7,
   "metadata": {},
   "outputs": [
    {
     "name": "stdout",
     "output_type": "stream",
     "text": [
      "Both the deploy.prototxt and .caffemodel files were found, ready to continue!\n"
     ]
    }
   ],
   "source": [
    "CAFFE_MODEL_FILE = os.path.join(CAFFE_ROOT, MODEL_FILE)\n",
    "CAFFE_PRETRAINED = os.path.join(CAFFE_ROOT, MODEL_PRETRAINED)\n",
    "    \n",
    "if os.path.exists(CAFFE_MODEL_FILE) and os.path.exists(CAFFE_PRETRAINED):\n",
    "    print(\"Both the deploy.prototxt and .caffemodel files were found, ready to continue!\")\n",
    "else:\n",
    "    print(\"Please enter the correct file names\")"
   ]
  },
  {
   "cell_type": "code",
   "execution_count": 9,
   "metadata": {},
   "outputs": [
    {
     "name": "stdout",
     "output_type": "stream",
     "text": [
      "Protobuf files not found. Running translation. Be patient...\n",
      "\n",
      "Protobuf files can be found at: \n",
      " /home/chen2/amaris/model/cat_dog_epo39 !\n"
     ]
    }
   ],
   "source": [
    "# Set the CAFFE2_ROOT\n",
    "CAFFE2_ROOT = os.path.expanduser('/home/chen2/amaris/caffe2')\n",
    "init_net_out = os.path.join(CAFFE_ROOT, 'init_net.pb')\n",
    "predict_net_out = os.path.join(CAFFE_ROOT, 'predict_net.pb')\n",
    "\n",
    "# Run the caffe_translator.py script to translate to Caffe2 if files do not already exist\n",
    "if (not os.path.exists(init_net_out)) or (not os.path.exists(predict_net_out)):\n",
    "    print(\"Protobuf files not found. Running translation. Be patient...\\n\")\n",
    "    os.system(\n",
    "        'python -m caffe2.python.caffe_translator' +\n",
    "        ' ' + CAFFE_MODEL_FILE + ' ' + CAFFE_PRETRAINED + ' ' + \n",
    "        '--init_net' + ' ' + init_net_out + ' ' +\n",
    "        '--predict_net' + ' ' + predict_net_out\n",
    "    )\n",
    "else:\n",
    "    print(\"You already have both .pb files, skipping translation...\\n\")    \n",
    "\n",
    "# Print if files are where they are expected to be\n",
    "if (not os.path.exists(init_net_out)) or (not os.path.exists(predict_net_out)):\n",
    "    print(init_net_out + \" and/or \" + predict_net_out + \" was NOT FOUND!\")\n",
    "else:\n",
    "    print(\"Protobuf files can be found at: \\n\", \n",
    "              os.path.join(CAFFE_ROOT), \"!\")"
   ]
  }
 ],
 "metadata": {
  "kernelspec": {
   "display_name": "Python 2",
   "language": "python",
   "name": "python2"
  },
  "language_info": {
   "codemirror_mode": {
    "name": "ipython",
    "version": 2
   },
   "file_extension": ".py",
   "mimetype": "text/x-python",
   "name": "python",
   "nbconvert_exporter": "python",
   "pygments_lexer": "ipython2",
   "version": "2.7.12"
  }
 },
 "nbformat": 4,
 "nbformat_minor": 2
}
