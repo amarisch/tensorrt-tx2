{
 "cells": [
  {
   "cell_type": "markdown",
   "metadata": {},
   "source": [
    "TensorRT"
   ]
  },
  {
   "cell_type": "code",
   "execution_count": 1,
   "metadata": {},
   "outputs": [],
   "source": [
    "import tensorrt as trt\n",
    "import pycuda.driver as cuda\n",
    "import pycuda.autoinit\n",
    "import numpy as np\n",
    "import os"
   ]
  },
  {
   "cell_type": "code",
   "execution_count": 2,
   "metadata": {},
   "outputs": [],
   "source": [
    "from random import randint\n",
    "from PIL import Image\n",
    "from matplotlib.pyplot import imshow #to show test case\n",
    "from tensorrt import parsers"
   ]
  },
  {
   "cell_type": "code",
   "execution_count": 3,
   "metadata": {},
   "outputs": [],
   "source": [
    "class Profiler(trt.infer.Profiler):\n",
    "    \"\"\"\n",
    "    Example Implimentation of a Profiler\n",
    "    Is identical to the Profiler class in trt.infer so it is possible\n",
    "    to just use that instead of implementing this if further\n",
    "    functionality is not needed\n",
    "    \"\"\"\n",
    "    def __init__(self, timing_iter):\n",
    "        trt.infer.Profiler.__init__(self)\n",
    "        self.timing_iterations = timing_iter\n",
    "        self.profile = []\n",
    "\n",
    "    def report_layer_time(self, layerName, ms):\n",
    "        record = next((r for r in self.profile if r[0] == layerName), (None, None))\n",
    "        if record == (None, None):\n",
    "            self.profile.append((layerName, ms))\n",
    "        else:\n",
    "            self.profile[self.profile.index(record)] = (record[0], record[1] + ms)\n",
    "\n",
    "    def print_layer_times(self):\n",
    "        totalTime = 0\n",
    "        for i in range(len(self.profile)):\n",
    "            print(\"{:40.40} {:4.3f}ms\".format(self.profile[i][0], self.profile[i][1] / self.timing_iterations))\n",
    "            totalTime += self.profile[i][1]\n",
    "        print(\"Time over all layers: {:4.3f}\".format(totalTime / self.timing_iterations))"
   ]
  },
  {
   "cell_type": "code",
   "execution_count": 4,
   "metadata": {},
   "outputs": [],
   "source": [
    "TIMING_INTERATIONS = 10\n",
    "G_LOGGER = trt.infer.ConsoleLogger(trt.infer.LogSeverity.ERROR)\n",
    "G_PROFILER = Profiler(TIMING_INTERATIONS)"
   ]
  },
  {
   "cell_type": "code",
   "execution_count": 5,
   "metadata": {},
   "outputs": [],
   "source": [
    "INPUT_LAYERS = ['data']\n",
    "OUTPUT_LAYERS = ['softmax']\n",
    "INPUT_H = 256\n",
    "INPUT_W =  256\n",
    "OUTPUT_SIZE = 2"
   ]
  },
  {
   "cell_type": "code",
   "execution_count": 6,
   "metadata": {},
   "outputs": [],
   "source": [
    "# Set the model job directory from DIGITS here\n",
    "MODEL_JOB_DIR='/home/chen2/amaris/alex_epoch_30'\n",
    "# Set the data job directory from DIGITS here\n",
    "DATA_JOB_DIR='/home/chen2/amaris/data/cat_dog'\n",
    "\n",
    "last_iteration = '4410'\n",
    "\n",
    "MODEL_PROTOTXT = os.path.join(MODEL_JOB_DIR,'deploy.prototxt')\n",
    "\n",
    "CAFFE_MODEL = os.path.join(MODEL_JOB_DIR,'snapshot_iter_' + last_iteration + '.caffemodel')\n",
    "TEST_DATA = '/home/chen2/amaris/data/cat_dog/test/4370.jpg'\n",
    "IMAGE_MEAN = os.path.join(MODEL_JOB_DIR,'mean.binaryproto')       # 待轉換的pb格式圖像均值文件路徑"
   ]
  },
  {
   "cell_type": "code",
   "execution_count": 7,
   "metadata": {},
   "outputs": [
    {
     "name": "stdout",
     "output_type": "stream",
     "text": [
      "Building Engine\n",
      "Bindings after deserializing\n",
      "Binding 0 (data): Input\n",
      "Binding 1 (softmax): Output\n"
     ]
    }
   ],
   "source": [
    "engine = trt.utils.caffe_to_trt_engine(G_LOGGER,\n",
    "                                       MODEL_PROTOTXT,\n",
    "                                       CAFFE_MODEL,\n",
    "                                       1,\n",
    "                                       1 << 20,\n",
    "                                       OUTPUT_LAYERS,\n",
    "                                       trt.infer.DataType.FLOAT)\n",
    "\n",
    "print(\"Bindings after deserializing\")\n",
    "for bi in range(engine.get_nb_bindings()):\n",
    "    if engine.binding_is_input(bi) == True:\n",
    "        print(\"Binding \" + str(bi) + \" (\" + engine.get_binding_name(bi) + \"): Input\")\n",
    "    else:\n",
    "        print(\"Binding \" + str(bi) + \" (\" + engine.get_binding_name(bi) + \"): Output\")\t"
   ]
  },
  {
   "cell_type": "code",
   "execution_count": 8,
   "metadata": {
    "scrolled": true
   },
   "outputs": [
    {
     "name": "stdout",
     "output_type": "stream",
     "text": [
      "Test Case: \n",
      "None (256, 256) RGB\n"
     ]
    },
    {
     "data": {
      "image/png": "[encoded data removed]",
      "text/plain": [
       "<Figure size 432x288 with 1 Axes>"
      ]
     },
     "metadata": {},
     "output_type": "display_data"
    }
   ],
   "source": [
    "#path = TEST_DATA + '/'\n",
    "TEST_DATA = '/home/chen2/amaris/data/cat_dog/test/2370.jpg'\n",
    "\n",
    "from PIL import ImageFile\n",
    "ImageFile.LOAD_TRUNCATED_IMAGES = True\n",
    "im = Image.open(TEST_DATA)\n",
    "width = INPUT_W\n",
    "height = INPUT_H\n",
    "im = im.resize( (width, height), Image.NEAREST )\n",
    "%matplotlib inline\n",
    "imshow(np.asarray(im))\n",
    "arr = np.array(im, dtype=np.float32, order='C')\n",
    "#arr = arr[:,:,::-1]\n",
    "arr = arr.transpose((2,0,1))\n",
    "img = arr.ravel()\n",
    "print(\"Test Case: \")\n",
    "print im.format, im.size, im.mode"
   ]
  },
  {
   "cell_type": "code",
   "execution_count": 9,
   "metadata": {},
   "outputs": [],
   "source": [
    "parser = parsers.caffeparser.create_caffe_parser()\n",
    "    #parse mean\n",
    "mean_blob = parser.parse_binary_proto(IMAGE_MEAN)\n",
    "parser.destroy()\n",
    "\n",
    "#Note: In TensorRT C++ no size is reqired, however you need it to cast the array\n",
    "mean = mean_blob.get_data(INPUT_W * INPUT_H)\n",
    "\n",
    "data = np.empty([INPUT_H * INPUT_W])\n",
    "for i in range(INPUT_W * INPUT_H):\n",
    "    #data[i] = float(img[i])\n",
    "    data[i] = float(img[i]) - mean[i]\n",
    "mean_blob.destroy()\n"
   ]
  },
  {
   "cell_type": "code",
   "execution_count": 10,
   "metadata": {},
   "outputs": [],
   "source": [
    "runtime = trt.infer.create_infer_runtime(G_LOGGER)\n",
    "context = engine.create_execution_context()\n",
    "context.set_profiler(G_PROFILER)"
   ]
  },
  {
   "cell_type": "code",
   "execution_count": 11,
   "metadata": {},
   "outputs": [],
   "source": [
    "assert(engine.get_nb_bindings() == 2)\n",
    "#convert input data to Float32\n",
    "img = data.astype(np.float32)\n",
    "#create output array to receive data\n",
    "output = np.empty(OUTPUT_SIZE, dtype = np.float32)"
   ]
  },
  {
   "cell_type": "code",
   "execution_count": 12,
   "metadata": {},
   "outputs": [],
   "source": [
    "d_input = cuda.mem_alloc(1 * img.size * img.dtype.itemsize)\n",
    "d_output = cuda.mem_alloc(1 * output.size * output.dtype.itemsize)"
   ]
  },
  {
   "cell_type": "code",
   "execution_count": 13,
   "metadata": {},
   "outputs": [],
   "source": [
    "bindings = [int(d_input), int(d_output)]"
   ]
  },
  {
   "cell_type": "code",
   "execution_count": 14,
   "metadata": {},
   "outputs": [],
   "source": [
    "#transfer input data to device\n",
    "cuda.memcpy_htod(d_input, img)\n",
    "#execute model\n",
    "#context.enqueue(1, bindings, stream.handle, None)\n",
    "for i in range(TIMING_INTERATIONS):\n",
    "    context.execute(1,bindings)\n",
    "#transfer predictions back\n",
    "cuda.memcpy_dtoh(output, d_output)\n",
    "#syncronize threads\n",
    "#stream.synchronize()"
   ]
  },
  {
   "cell_type": "code",
   "execution_count": 15,
   "metadata": {
    "scrolled": true
   },
   "outputs": [
    {
     "name": "stdout",
     "output_type": "stream",
     "text": [
      "0\n",
      "output label: cat \n",
      "accuracy: 0.97698325\n",
      "conv1 + relu1                            0.101ms\n",
      "norm1                                    0.034ms\n",
      "pool1                                    0.013ms\n",
      "conv2 + relu2                            0.190ms\n",
      "norm2                                    0.068ms\n",
      "pool2                                    0.010ms\n",
      "conv3 + relu3                            0.079ms\n",
      "conv4 + relu4                            0.087ms\n",
      "conv5 + relu5                            0.076ms\n",
      "pool5                                    0.006ms\n",
      "fc6 + relu6                              0.698ms\n",
      "fc7 + relu7                              0.320ms\n",
      "fc8                                      0.030ms\n",
      "softmax                                  0.007ms\n",
      "Time over all layers: 1.720\n"
     ]
    }
   ],
   "source": [
    "# load labels\n",
    "labels_file = os.path.join(MODEL_JOB_DIR,'labels.txt')\n",
    "if not os.path.exists(labels_file):\n",
    "    print 'Can not fild the lable.txt'\n",
    "    exit()\n",
    "    \n",
    "labels = np.loadtxt(labels_file, str, delimiter='\\t')\n",
    "print np.argmax(output)\n",
    "\n",
    "print 'output label:', labels[np.argmax(output)], '\\naccuracy:', output[np.argmax(output)]\n",
    "G_PROFILER.print_layer_times()\n",
    "#print (\"Prediction: \" + str(np.argmax(output)))\n",
    "context.destroy()\n",
    "engine.destroy()\n",
    "runtime.destroy()"
   ]
  },
  {
   "cell_type": "code",
   "execution_count": null,
   "metadata": {},
   "outputs": [],
   "source": []
  }
 ],
 "metadata": {
  "celltoolbar": "Edit Metadata",
  "kernelspec": {
   "display_name": "Python 2",
   "language": "python",
   "name": "python2"
  },
  "language_info": {
   "codemirror_mode": {
    "name": "ipython",
    "version": 2
   },
   "file_extension": ".py",
   "mimetype": "text/x-python",
   "name": "python",
   "nbconvert_exporter": "python",
   "pygments_lexer": "ipython2",
   "version": "2.7.12"
  }
 },
 "nbformat": 4,
 "nbformat_minor": 2
}
